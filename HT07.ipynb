{
 "cells": [
  {
   "cell_type": "markdown",
   "metadata": {},
   "source": [
    "# Hoja de trabajo 7\n",
    "Jose Daniel Gomez Cabrera 21429"
   ]
  },
  {
   "cell_type": "code",
   "execution_count": 17,
   "metadata": {},
   "outputs": [],
   "source": [
    "import pandas as pd\n",
    "import numpy as np\n",
    "from sklearn.model_selection import train_test_split\n",
    "from sklearn import svm\n",
    "from sklearn.metrics import confusion_matrix\n",
    "import time"
   ]
  },
  {
   "cell_type": "markdown",
   "metadata": {},
   "source": [
    "# Carga de datos"
   ]
  },
  {
   "cell_type": "code",
   "execution_count": 18,
   "metadata": {},
   "outputs": [],
   "source": [
    "train = pd.read_csv(\"./train.csv\")\n"
   ]
  },
  {
   "cell_type": "code",
   "execution_count": 19,
   "metadata": {},
   "outputs": [],
   "source": [
    "# Manejo de valores faltantes\n",
    "train.fillna(0, inplace=True)\n",
    "\n",
    "# Creación de variable categórica\n",
    "train['tipoDeCasa'] = pd.cut(train['SalePrice'], bins=[0, 145000, 205000, 410000], labels=[1, 2, 3])\n",
    "\n",
    "# Conversión de variables categóricas\n",
    "train = pd.get_dummies(train, columns=train.select_dtypes(include='object').columns)"
   ]
  },
  {
   "cell_type": "code",
   "execution_count": 20,
   "metadata": {},
   "outputs": [],
   "source": [
    "# División de datos en conjunto de entrenamiento y prueba\n",
    "train, test = train_test_split(train, test_size=0.3, random_state=123)\n",
    "\n",
    "# Selección de características\n",
    "frstselect = train.iloc[:, [1, 2, 3, 6, 7, 8, 9, 10, 11, 12, 13, 14, 15, 16, 17, 18, 19, 20, 21, 22, 23, 24, 25, 26, 27, 28, 29, 30, 31, 32, 33, 34, 35, 36, 37, 38, 39, 40, 41, 42, 43, 44, 45, 46, 47, 48, 49, 50, 51, 52, 53, 54, 55, 56, 57, 58, 59, 60, 61, 62, 63, 64, 65, 66]]\n",
    "scndselect = train.iloc[:, [1, 3, 4, 17, 18, 19, 20, 26, 34, 36, 37, 38, 43, 44, 45, 46, 47, 48, 49, 50, 51, 52, 53, 55, 57, 60, 62, 63, 67, 68, 69, 70, 71, 72, 76, 77, 78, 82]]"
   ]
  },
  {
   "cell_type": "code",
   "execution_count": 7,
   "metadata": {},
   "outputs": [
    {
     "ename": "SyntaxError",
     "evalue": "invalid syntax. Maybe you meant '==' or ':=' instead of '='? (3120489195.py, line 3)",
     "output_type": "error",
     "traceback": [
      "\u001b[1;36m  Cell \u001b[1;32mIn[7], line 3\u001b[1;36m\u001b[0m\n\u001b[1;33m    modeloSVM_L1 = svm.SVC(kernel='linear', C=32)\u001b[0m\n\u001b[1;37m    ^\u001b[0m\n\u001b[1;31mSyntaxError\u001b[0m\u001b[1;31m:\u001b[0m invalid syntax. Maybe you meant '==' or ':=' instead of '='?\n"
     ]
    }
   ],
   "source": [
    "# Modelos de SVM\n",
    "models = [\n",
    "    svm.SVC(kernel='linear', C=2**5),\n",
    "    svm.SVC(kernel='linear', C=0.5),\n",
    "    svm.SVC(kernel='linear', C=2**-5),\n",
    "    svm.SVC(kernel='rbf', gamma=0.005),\n",
    "    svm.SVC(kernel='rbf', gamma=0.05),\n",
    "    svm.SVC(kernel='rbf', gamma=2**-5),\n",
    "    svm.SVC(kernel='poly', gamma=1, coef0=1, degree=8),\n",
    "    svm.SVC(kernel='poly', gamma=5, coef0=1),\n",
    "    svm.SVC(kernel='poly', gamma=2**-5, coef0=1)\n",
    "]"
   ]
  },
  {
   "cell_type": "code",
   "execution_count": 2,
   "metadata": {},
   "outputs": [
    {
     "ename": "NameError",
     "evalue": "name 'scndselect' is not defined",
     "output_type": "error",
     "traceback": [
      "\u001b[1;31m---------------------------------------------------------------------------\u001b[0m",
      "\u001b[1;31mNameError\u001b[0m                                 Traceback (most recent call last)",
      "Cell \u001b[1;32mIn[2], line 7\u001b[0m\n\u001b[0;32m      4\u001b[0m imputer \u001b[38;5;241m=\u001b[39m SimpleImputer(strategy\u001b[38;5;241m=\u001b[39m\u001b[38;5;124m'\u001b[39m\u001b[38;5;124mmedian\u001b[39m\u001b[38;5;124m'\u001b[39m)\n\u001b[0;32m      6\u001b[0m \u001b[38;5;66;03m# Aplica la imputación a tu conjunto de datos\u001b[39;00m\n\u001b[1;32m----> 7\u001b[0m scndselect_imputed \u001b[38;5;241m=\u001b[39m \u001b[43mscndselect\u001b[49m\u001b[38;5;241m.\u001b[39mcopy()  \u001b[38;5;66;03m# Para evitar modificar el conjunto de datos original\u001b[39;00m\n\u001b[0;32m      8\u001b[0m scndselect_imputed[\u001b[38;5;124m'\u001b[39m\u001b[38;5;124mtipoDeCasa\u001b[39m\u001b[38;5;124m'\u001b[39m] \u001b[38;5;241m=\u001b[39m imputer\u001b[38;5;241m.\u001b[39mfit_transform(scndselect[[\u001b[38;5;124m'\u001b[39m\u001b[38;5;124mtipoDeCasa\u001b[39m\u001b[38;5;124m'\u001b[39m]])\n\u001b[0;32m     10\u001b[0m \u001b[38;5;66;03m# Ahora puedes entrenar tus modelos utilizando scndselect_imputed en lugar de scndselect\u001b[39;00m\n",
      "\u001b[1;31mNameError\u001b[0m: name 'scndselect' is not defined"
     ]
    }
   ],
   "source": [
    "from sklearn.impute import SimpleImputer\n",
    "\n",
    "# Crea un imputador con la estrategia de usar la mediana\n",
    "imputer = SimpleImputer(strategy='median')\n",
    "\n",
    "# Aplica la imputación a tu conjunto de datos\n",
    "scndselect_imputed = scndselect.copy()  # Para evitar modificar el conjunto de datos original\n",
    "scndselect_imputed['tipoDeCasa'] = imputer.fit_transform(scndselect[['tipoDeCasa']])\n",
    "\n",
    "# Ahora puedes entrenar tus modelos utilizando scndselect_imputed en lugar de scndselect\n",
    "for model in models:\n",
    "    model.fit(scndselect_imputed.drop(columns=['tipoDeCasa']), scndselect_imputed['tipoDeCasa'])\n",
    "\n",
    "\n",
    "# Entrenamiento de modelos\n",
    "for model in models:\n",
    "    model.fit(scndselect.drop(columns=['tipoDeCasa']), scndselect['tipoDeCasa'])"
   ]
  },
  {
   "cell_type": "code",
   "execution_count": 1,
   "metadata": {},
   "outputs": [
    {
     "ename": "NameError",
     "evalue": "name 'models' is not defined",
     "output_type": "error",
     "traceback": [
      "\u001b[1;31m---------------------------------------------------------------------------\u001b[0m",
      "\u001b[1;31mNameError\u001b[0m                                 Traceback (most recent call last)",
      "Cell \u001b[1;32mIn[1], line 3\u001b[0m\n\u001b[0;32m      1\u001b[0m \u001b[38;5;66;03m# Predicción y evaluación de modelos\u001b[39;00m\n\u001b[0;32m      2\u001b[0m predictions \u001b[38;5;241m=\u001b[39m {}\n\u001b[1;32m----> 3\u001b[0m \u001b[38;5;28;01mfor\u001b[39;00m model \u001b[38;5;129;01min\u001b[39;00m \u001b[43mmodels\u001b[49m:\n\u001b[0;32m      4\u001b[0m     start_time \u001b[38;5;241m=\u001b[39m time\u001b[38;5;241m.\u001b[39mprocess_time()\n\u001b[0;32m      5\u001b[0m     predictions[model] \u001b[38;5;241m=\u001b[39m model\u001b[38;5;241m.\u001b[39mpredict(test\u001b[38;5;241m.\u001b[39miloc[:, \u001b[38;5;241m1\u001b[39m:])\n",
      "\u001b[1;31mNameError\u001b[0m: name 'models' is not defined"
     ]
    }
   ],
   "source": [
    "# Predicción y evaluación de modelos\n",
    "predictions = {}\n",
    "for model in models:\n",
    "    start_time = time.process_time()\n",
    "    predictions[model] = model.predict(test.iloc[:, 1:])\n",
    "    elapsed_time = time.process_time() - start_time\n",
    "    print(f\"Prediction time for {model.kernel} kernel: {elapsed_time:.4f} seconds\")\n",
    "    cm = confusion_matrix(test['tipoDeCasa'], predictions[model])\n",
    "    print(cm)"
   ]
  }
 ],
 "metadata": {
  "kernelspec": {
   "display_name": "Python 3",
   "language": "python",
   "name": "python3"
  },
  "language_info": {
   "codemirror_mode": {
    "name": "ipython",
    "version": 3
   },
   "file_extension": ".py",
   "mimetype": "text/x-python",
   "name": "python",
   "nbconvert_exporter": "python",
   "pygments_lexer": "ipython3",
   "version": "3.12.1"
  }
 },
 "nbformat": 4,
 "nbformat_minor": 2
}
