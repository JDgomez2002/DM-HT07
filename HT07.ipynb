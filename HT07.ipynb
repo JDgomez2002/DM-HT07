{
 "cells": [
  {
   "cell_type": "markdown",
   "metadata": {},
   "source": [
    "# Hoja de trabajo 7\n",
    "Jose Daniel Gomez Cabrera 21429"
   ]
  },
  {
   "cell_type": "code",
   "execution_count": 1,
   "metadata": {},
   "outputs": [],
   "source": [
    "import pandas as pd\n",
    "import numpy as np\n",
    "from sklearn.model_selection import train_test_split\n",
    "from sklearn import svm\n",
    "from sklearn.metrics import confusion_matrix\n",
    "import time"
   ]
  },
  {
   "cell_type": "markdown",
   "metadata": {},
   "source": [
    "# Carga de datos"
   ]
  },
  {
   "cell_type": "code",
   "execution_count": 2,
   "metadata": {},
   "outputs": [],
   "source": [
    "train = pd.read_csv(\"./train.csv\")\n"
   ]
  },
  {
   "cell_type": "code",
   "execution_count": null,
   "metadata": {},
   "outputs": [],
   "source": [
    "# Manejo de valores faltantes\n",
    "train.fillna(0, inplace=True)\n",
    "\n",
    "# Creación de variable categórica\n",
    "train['tipoDeCasa'] = pd.cut(train['SalePrice'], bins=[0, 145000, 205000, 410000], labels=[1, 2, 3])\n",
    "\n",
    "# Conversión de variables categóricas\n",
    "train = pd.get_dummies(train, columns=train.select_dtypes(include='object').columns)"
   ]
  },
  {
   "cell_type": "code",
   "execution_count": null,
   "metadata": {},
   "outputs": [],
   "source": [
    "# División de datos en conjunto de entrenamiento y prueba\n",
    "train, test = train_test_split(train, test_size=0.3, random_state=123)\n",
    "\n",
    "# Selección de características\n",
    "frstselect = train.iloc[:, [1, 2, 3, 6, 7, 8, 9, 10, 11, 12, 13, 14, 15, 16, 17, 18, 19, 20, 21, 22, 23, 24, 25, 26, 27, 28, 29, 30, 31, 32, 33, 34, 35, 36, 37, 38, 39, 40, 41, 42, 43, 44, 45, 46, 47, 48, 49, 50, 51, 52, 53, 54, 55, 56, 57, 58, 59, 60, 61, 62, 63, 64, 65, 66]]\n",
    "scndselect = train.iloc[:, [1, 3, 4, 17, 18, 19, 20, 26, 34, 36, 37, 38, 43, 44, 45, 46, 47, 48, 49, 50, 51, 52, 53, 55, 57, 60, 62, 63, 67, 68, 69, 70, 71, 72, 76, 77, 78, 82]]"
   ]
  },
  {
   "cell_type": "code",
   "execution_count": null,
   "metadata": {},
   "outputs": [],
   "source": [
    "# Modelos de SVM\n",
    "models = [\n",
    "    svm.SVC(kernel='linear', C=2**5),\n",
    "    svm.SVC(kernel='linear', C=0.5),\n",
    "    svm.SVC(kernel='linear', C=2**-5),\n",
    "    svm.SVC(kernel='rbf', gamma=0.005),\n",
    "    svm.SVC(kernel='rbf', gamma=0.05),\n",
    "    svm.SVC(kernel='rbf', gamma=2**-5),\n",
    "    svm.SVC(kernel='poly', gamma=1, coef0=1, degree=8),\n",
    "    svm.SVC(kernel='poly', gamma=5, coef0=1),\n",
    "    svm.SVC(kernel='poly', gamma=2**-5, coef0=1)\n",
    "]"
   ]
  },
  {
   "cell_type": "code",
   "execution_count": null,
   "metadata": {},
   "outputs": [],
   "source": [
    "    # Entrenamiento de modelos\n",
    "for model in models:\n",
    "    model.fit(scndselect.drop(columns=['tipoDeCasa']), scndselect['tipoDeCasa'])"
   ]
  },
  {
   "cell_type": "code",
   "execution_count": null,
   "metadata": {},
   "outputs": [],
   "source": [
    "# Predicción y evaluación de modelos\n",
    "predictions = {}\n",
    "for model in models:\n",
    "    start_time = time.process_time()\n",
    "    predictions[model] = model.predict(test.iloc[:, 1:])\n",
    "    elapsed_time = time.process_time() - start_time\n",
    "    print(f\"Prediction time for {model.kernel} kernel: {elapsed_time:.4f} seconds\")\n",
    "    cm = confusion_matrix(test['tipoDeCasa'], predictions[model])\n",
    "    print(cm)"
   ]
  }
 ],
 "metadata": {
  "kernelspec": {
   "display_name": "Python 3",
   "language": "python",
   "name": "python3"
  },
  "language_info": {
   "codemirror_mode": {
    "name": "ipython",
    "version": 3
   },
   "file_extension": ".py",
   "mimetype": "text/x-python",
   "name": "python",
   "nbconvert_exporter": "python",
   "pygments_lexer": "ipython3",
   "version": "3.12.1"
  }
 },
 "nbformat": 4,
 "nbformat_minor": 2
}
